{
 "cells": [
  {
   "cell_type": "code",
   "execution_count": 1,
   "metadata": {},
   "outputs": [],
   "source": [
    "import tkinter as tk\n",
    "from tkinter import *\n",
    "from tkinter import font\n",
    "from tkinter.filedialog import askopenfile\n",
    "from typing import MutableSet\n",
    "from tkVideoPlayer import TkinterVideo\n",
    "import tensorflow as tf\n",
    "from glob import glob\n",
    "import os\n",
    "import cv2\n",
    "import numpy as np\n",
    "\n",
    "window=Tk()\n",
    "window.title(\"Video Player\")\n",
    "window.geometry(\"740x2000\")\n",
    "window.config(bg=\"orange\")\n",
    "lbl1 = Label(window, text=\"HP Video Player\", bg=\"orange red\",\n",
    "             fg=\"white\", font=\"none 24 bold\")\n",
    "lbl1.config(anchor=CENTER)\n",
    "lbl1.pack()\n",
    "global videoplayer\n",
    "\n",
    "def openFile():\n",
    "    file = askopenfile(mode='r', filetypes=[\n",
    "                       ('Video Files', [\"*.mp4\"])])\n",
    "    if file is not None:\n",
    "        global filename\n",
    "        filename = file.name\n",
    "        global videoplayer\n",
    "        videoplayer = TkinterVideo(master=window, scaled=True)\n",
    "        videoplayer.load(r\"{}\".format(filename))\n",
    "        videoplayer.pack(expand=True, fill=\"both\")\n",
    "        videoplayer.play()\n",
    "def runfile():\n",
    "    #root=Tk()\n",
    "    #root.title(\"Transformed Video\")\n",
    "    #root.geometry(\"500x500\")\n",
    "    videoplayer=TkinterVideo(master=window, scaled=True)\n",
    "    videoplayer.load(r\"Transformed Video.mp4\")\n",
    "    videoplayer.pack(expand=True, fill=\"both\")\n",
    "    videoplayer.play()\n",
    "#def playFile():\n",
    "    #videoplayer.play()\n",
    "\n",
    "#def stopFile():\n",
    "   # videoplayer.stop()\n",
    "\n",
    "#def pauseFile():\n",
    "    #videoplayer.pause()\n",
    "\n",
    "openbtn= Button( window, text=\"Play original video\", command=lambda:openFile()) \n",
    "openbtn.pack(side=TOP, pady=2)\n",
    "\n",
    "playbtn= Button( window, text=\"Play Transformed Video\", command=lambda:runfile())\n",
    "playbtn.pack(side=TOP, pady=2)\n",
    "\n",
    "#stopbtn= Button( window, text=\"Stop\", command=lambda:stopFile()) \n",
    "#stopbtn.pack(side=TOP, pady=4)\n",
    "\n",
    "#pausebtn= Button( window, text=\"Pause\", command=lambda:pauseFile()) \n",
    "#pausebtn.pack(side=TOP, pady=5)\n",
    "\n",
    "window.mainloop()"
   ]
  }
 ],
 "metadata": {
  "kernelspec": {
   "display_name": "Python 3.9.13 ('base')",
   "language": "python",
   "name": "python3"
  },
  "language_info": {
   "codemirror_mode": {
    "name": "ipython",
    "version": 3
   },
   "file_extension": ".py",
   "mimetype": "text/x-python",
   "name": "python",
   "nbconvert_exporter": "python",
   "pygments_lexer": "ipython3",
   "version": "3.9.13"
  },
  "orig_nbformat": 4,
  "vscode": {
   "interpreter": {
    "hash": "2e841410de0b66c2b175840074dc24237317ce198a3301ef62070dfe400a4d78"
   }
  }
 },
 "nbformat": 4,
 "nbformat_minor": 2
}
